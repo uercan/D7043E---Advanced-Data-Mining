{
 "cells": [
  {
   "cell_type": "code",
   "execution_count": 2,
   "metadata": {},
   "outputs": [
    {
     "name": "stdout",
     "output_type": "stream",
     "text": [
      "tensor([1, 2, 3, 4, 5])\n"
     ]
    }
   ],
   "source": [
    "import torch\n",
    "import torch.nn as nn\n",
    "\n",
    "class UNet(nn.Module):\n",
    "    def __init__(self, in_channels, out_channels):\n",
    "        super(UNet, self).__init()\n",
    "        \n",
    "        # Contracting Part\n",
    "        self.encoder = nn.ModuleList()\n",
    "        for channels in [64, 128, 256, 512]:\n",
    "            self.encoder.append(self.conv_block(in_channels, channels))\n",
    "            in_channels = channels\n",
    "        \n",
    "        # Connecting Part\n",
    "        self.connect = self.conv_block(512, 1024)\n",
    "        \n",
    "        # Expansive Part\n",
    "        self.decoder = nn.ModuleList()\n",
    "        for channels in [512, 256, 128, 64]:\n",
    "            self.decoder.append(self.upconv_block(in_channels, channels))\n",
    "            in_channels = channels\n",
    "        \n",
    "        # Final Part\n",
    "        self.final = nn.Conv2d(64, out_channels, 1)\n",
    "    \n",
    "    def conv_block(self, in_channels, out_channels, has_maxpooling = True):\n",
    "        return nn.Sequential(\n",
    "            nn.Conv2d(in_channels, out_channels, 3, padding=1),\n",
    "            nn.ReLU(),\n",
    "            nn.Conv2d(out_channels, out_channels, 3, padding=1),\n",
    "            nn.ReLU(),\n",
    "            nn.MaxPool2d(2)    \n",
    "        )if has_maxpooling == True else nn.Sequential(\n",
    "            nn.Conv2d(in_channels, out_channels, 3, padding=1),\n",
    "            nn.ReLU(),\n",
    "            nn.Conv2d(out_channels, out_channels, 3, padding=1),\n",
    "            nn.ReLU() \n",
    "        ) \n",
    "        \n",
    "    \n",
    "    def upconv_block(self, in_channels, out_channels):\n",
    "        return nn.Sequential(\n",
    "            nn.ConvTranspose2d(in_channels, out_channels, 2, stride=2),\n",
    "            nn.Conv2d(in_channels, out_channels, 3, padding=1),\n",
    "            nn.ReLU(),\n",
    "            nn.Conv2d(out_channels, out_channels, 3, padding=1),\n",
    "            nn.ReLU()\n",
    "        )\n",
    "    \n",
    "    def forward(self, x):\n",
    "        # Contracting Part\n",
    "        encoder_outputs = []\n",
    "        for encoder in self.encoder:\n",
    "            x = encoder(x)\n",
    "            encoder_outputs.append(x)\n",
    "        \n",
    "        # Connecting Part\n",
    "        x = self.connect(x)\n",
    "        \n",
    "        # Expansive Part\n",
    "        for decoder, encoder_output in zip(self.decoder, reversed(encoder_outputs)):\n",
    "            x = decoder(x)\n",
    "            # Concatenate with the corresponding cropped feature map\n",
    "            x = torch.cat((x, encoder_output), dim=1)\n",
    "        \n",
    "        # Final Part\n",
    "        x = self.final(x)\n",
    "        return x\n",
    "\n",
    "# Create a U-Net model with 1 input channel and 2 output channels for binary segmentation\n",
    "model = UNet(in_channels=1, out_channels=2)\n",
    "\n",
    "# Print the model architecture\n",
    "print(model)\n"
   ]
  }
 ],
 "metadata": {
  "kernelspec": {
   "display_name": "base",
   "language": "python",
   "name": "python3"
  },
  "language_info": {
   "codemirror_mode": {
    "name": "ipython",
    "version": 3
   },
   "file_extension": ".py",
   "mimetype": "text/x-python",
   "name": "python",
   "nbconvert_exporter": "python",
   "pygments_lexer": "ipython3",
   "version": "3.9.13"
  }
 },
 "nbformat": 4,
 "nbformat_minor": 2
}
